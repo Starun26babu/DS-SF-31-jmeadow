{
 "cells": [
  {
   "cell_type": "markdown",
   "metadata": {
    "collapsed": true
   },
   "source": [
    "### Connects to API and pulls in data"
   ]
  },
  {
   "cell_type": "code",
   "execution_count": 3,
   "metadata": {
    "collapsed": false,
    "scrolled": false
   },
   "outputs": [
    {
     "name": "stdout",
     "output_type": "stream",
     "text": [
      "True\n"
     ]
    }
   ],
   "source": [
    "from urllib2 import urlopen\n",
    "import json\n",
    "from pprint import pprint\n",
    "import numpy as np\n",
    "\n",
    "# website = urlopen('https://predictit.org/api/marketdata/ticker/GORSUCH.SCOTUS.NEXTJUSTICE')\n",
    "website = urlopen('https://predictit.org/api/marketdata/all')\n",
    "predictit = website.read()\n",
    "\n",
    "\n",
    "print os.path.isfile('test.json')\n",
    "target = open('test.json','w')\n",
    "target.truncate()\n",
    "target.write(predictit)\n",
    "target.close()\n",
    "\n",
    "target = open('test.json','r')\n",
    "with open('test.json') as data_file:\n",
    "    predictit = json.load(data_file)\n",
    "    \n",
    "# pprint(predictit)"
   ]
  },
  {
   "cell_type": "markdown",
   "metadata": {},
   "source": [
    "#### API data exploration:"
   ]
  },
  {
   "cell_type": "code",
   "execution_count": 4,
   "metadata": {
    "collapsed": false
   },
   "outputs": [
    {
     "name": "stdout",
     "output_type": "stream",
     "text": [
      "predictit: <type 'dict'>\n",
      "predictit[\"Markets\"]): <type 'list'>\n",
      "predictit[\"Markets\"][0]): <type 'dict'>\n",
      "predictit[\"Markets\"][0][\"Contracts\"]: <type 'list'>\n",
      "predictit[\"Markets\"][0][\"Contracts\"][0]: <type 'dict'>\n",
      "Number of markets: 150\n",
      "Number of contracts: 777\n"
     ]
    }
   ],
   "source": [
    "import json\n",
    "\n",
    "print \"predictit: \"+str(type(predictit))\n",
    "print 'predictit[\"Markets\"]): '+str(type(predictit[\"Markets\"]))\n",
    "print 'predictit[\"Markets\"][0]): '+str(type(predictit[\"Markets\"][0]))\n",
    "print 'predictit[\"Markets\"][0][\"Contracts\"]: '+str(type(predictit[\"Markets\"][0][\"Contracts\"]))\n",
    "print 'predictit[\"Markets\"][0][\"Contracts\"][0]: '+str(type(predictit[\"Markets\"][0][\"Contracts\"][0]))\n",
    "\n",
    "contracts = 0\n",
    "for x in xrange(0,len(predictit[\"Markets\"])):\n",
    "    contracts = contracts + len(predictit[\"Markets\"][x][\"Contracts\"])\n",
    "\n",
    "print 'Number of markets: '+str(len(predictit[\"Markets\"]))\n",
    "print 'Number of contracts: '+str(contracts)"
   ]
  },
  {
   "cell_type": "markdown",
   "metadata": {},
   "source": [
    "### Processing Data for Upload to Database"
   ]
  },
  {
   "cell_type": "code",
   "execution_count": 60,
   "metadata": {
    "collapsed": false
   },
   "outputs": [
    {
     "name": "stdout",
     "output_type": "stream",
     "text": [
      "Markets Shape: (150, 6)\n",
      "Contracts Shape: (777, 9)\n",
      "Prices Shape: (777, 6)\n"
     ]
    }
   ],
   "source": [
    "import pandas as pd\n",
    "\n",
    "\n",
    "### MARKETS ###\n",
    "markets_id = list()\n",
    "markets_name = list()\n",
    "markets_shortname = list()\n",
    "markets_tickersymbol = list()\n",
    "markets_url = list()\n",
    "markets_timestamp = list()\n",
    "for x in xrange(0,len(predictit[\"Markets\"])):\n",
    "    markets_id.append(predictit[\"Markets\"][x][\"ID\"])\n",
    "    markets_name.append(predictit[\"Markets\"][x][\"Name\"])    \n",
    "    markets_shortname.append(predictit[\"Markets\"][x][\"ShortName\"])    \n",
    "    markets_tickersymbol.append(predictit[\"Markets\"][x][\"TickerSymbol\"])    \n",
    "    markets_url.append(predictit[\"Markets\"][x][\"URL\"])    \n",
    "    markets_timestamp.append(predictit[\"Markets\"][x][\"TimeStamp\"])    \n",
    "    \n",
    "markets = pd.DataFrame({\"id\":markets_id,\"name\":markets_name,\"shortname\":markets_shortname,\"tickersymbol\":markets_tickersymbol,\"url\":markets_url,\"timestamp\":markets_timestamp})\n",
    "\n",
    "\n",
    "### CONTRACTS ###\n",
    "contracts_id = list()\n",
    "contracts_market_id = list()\n",
    "contracts_longname = list()\n",
    "contracts_name = list()\n",
    "contracts_shortname = list()\n",
    "contracts_date_end = list()\n",
    "contracts_tickersymbol = list()\n",
    "contracts_url = list()\n",
    "contracts_timestamp = list()\n",
    "\n",
    "for x in xrange(0,len(predictit[\"Markets\"])):\n",
    "    for y in xrange(0,len(predictit[\"Markets\"][x][\"Contracts\"])):\n",
    "        contracts_id.append(predictit[\"Markets\"][x][\"Contracts\"][y][\"ID\"])\n",
    "        contracts_market_id.append(predictit[\"Markets\"][x][\"ID\"])\n",
    "        contracts_longname.append(predictit[\"Markets\"][x][\"Contracts\"][y][\"LongName\"])\n",
    "        contracts_name.append(predictit[\"Markets\"][x][\"Contracts\"][y][\"Name\"])\n",
    "        contracts_shortname.append(predictit[\"Markets\"][x][\"Contracts\"][y][\"ShortName\"])\n",
    "        contracts_date_end.append(predictit[\"Markets\"][x][\"Contracts\"][y][\"DateEnd\"])\n",
    "        contracts_tickersymbol.append(predictit[\"Markets\"][x][\"Contracts\"][y][\"TickerSymbol\"])\n",
    "        contracts_url.append(predictit[\"Markets\"][x][\"Contracts\"][y][\"URL\"])\n",
    "        contracts_timestamp.append(predictit[\"Markets\"][x][\"TimeStamp\"])\n",
    "\n",
    "contracts = pd.DataFrame({\"id\":contracts_id,\"market_id\":contracts_market_id,\"name\":contracts_name,\"longname\":contracts_longname,\"name\":contracts_name,\"shortname\":contracts_shortname,\"date_end\":contracts_date_end,\"tickersymbol\":contracts_tickersymbol,\"url\":contracts_url,\"timestamp\":contracts_timestamp})\n",
    "\n",
    "\n",
    "### PRICES ###\n",
    "prices_contract_id = list()\n",
    "prices_buy_no = list()\n",
    "prices_buy_yes = list()\n",
    "prices_sell_no = list()\n",
    "prices_sell_yes = list()\n",
    "prices_timestamp = list()\n",
    "\n",
    "for x in xrange(0,len(predictit[\"Markets\"])):\n",
    "    for y in xrange(0,len(predictit[\"Markets\"][x][\"Contracts\"])):\n",
    "        prices_contract_id.append(predictit[\"Markets\"][x][\"Contracts\"][y][\"ID\"])\n",
    "        prices_buy_no.append(predictit[\"Markets\"][x][\"Contracts\"][y][\"BestBuyNoCost\"])\n",
    "        prices_buy_yes.append(predictit[\"Markets\"][x][\"Contracts\"][y][\"BestBuyYesCost\"])\n",
    "        prices_sell_no.append(predictit[\"Markets\"][x][\"Contracts\"][y][\"BestSellNoCost\"])\n",
    "        prices_sell_yes.append(predictit[\"Markets\"][x][\"Contracts\"][y][\"BestSellYesCost\"])\n",
    "        prices_timestamp.append(predictit[\"Markets\"][x][\"TimeStamp\"])\n",
    "\n",
    "prices = pd.DataFrame({\"contract_id\":prices_contract_id,\"buy_no\":prices_buy_no,\"buy_yes\":prices_buy_yes,\"sell_no\":prices_sell_no,\"sell_yes\":prices_sell_yes,\"timestamp\":contracts_timestamp})\n",
    "\n",
    "\n",
    "\n",
    "\n",
    "print \"Markets Shape: \"+str(markets.shape)\n",
    "print \"Contracts Shape: \"+str(contracts.shape)\n",
    "print \"Prices Shape: \"+str(prices.shape)\n",
    "# prices.head(5)"
   ]
  },
  {
   "cell_type": "markdown",
   "metadata": {},
   "source": [
    "### Postgres Work"
   ]
  },
  {
   "cell_type": "code",
   "execution_count": 69,
   "metadata": {
    "collapsed": false
   },
   "outputs": [
    {
     "ename": "ProgrammingError",
     "evalue": "can't adapt type 'Series'",
     "output_type": "error",
     "traceback": [
      "\u001b[0;31m---------------------------------------------------------------------------\u001b[0m",
      "\u001b[0;31mProgrammingError\u001b[0m                          Traceback (most recent call last)",
      "\u001b[0;32m<ipython-input-69-293dd7bcbbfe>\u001b[0m in \u001b[0;36m<module>\u001b[0;34m()\u001b[0m\n\u001b[1;32m     22\u001b[0m \u001b[0;34m\u001b[0m\u001b[0m\n\u001b[1;32m     23\u001b[0m cursor.execute(\"INSERT INTO prices_test ({cols}) VALUES ({vals_str})\".format(\n\u001b[0;32m---> 24\u001b[0;31m                cols = cols, vals_str = vals_str), vals)\n\u001b[0m",
      "\u001b[0;31mProgrammingError\u001b[0m: can't adapt type 'Series'"
     ]
    }
   ],
   "source": [
    "import psycopg2\n",
    "from psycopg2.extensions import AsIs\n",
    "\n",
    "try:\n",
    "    conn = psycopg2.connect(\"dbname='postgres' user='jeremy' host='localhost' password=''\")\n",
    "except:\n",
    "    print \"I am unable to connect to the database\"\n",
    "    \n",
    "\n",
    "cursor = conn.cursor()\n",
    "# cur.execute(\"\"\"SELECT datname from pg_database\"\"\")\n",
    "# rows = cur.fetchall()\n",
    "# print rows\n",
    "\n",
    "\n"
   ]
  },
  {
   "cell_type": "code",
   "execution_count": 78,
   "metadata": {
    "collapsed": false
   },
   "outputs": [
    {
     "name": "stdout",
     "output_type": "stream",
     "text": [
      "   buy_no  buy_yes  contract_id  sell_no  sell_yes  \\\n",
      "0     NaN     0.01         2813     0.99       NaN   \n",
      "\n",
      "                     timestamp  \n",
      "0  2017-02-08T15:49:02.4905263  \n"
     ]
    }
   ],
   "source": [
    "#scratchpad\n",
    "\n",
    "print prices.head(1)\n",
    "\n",
    "# name = raw_input(\"who are you?\")\n",
    "# print \"hello %s\" % (name,)"
   ]
  },
  {
   "cell_type": "code",
   "execution_count": null,
   "metadata": {
    "collapsed": true
   },
   "outputs": [],
   "source": []
  }
 ],
 "metadata": {
  "anaconda-cloud": {},
  "kernelspec": {
   "display_name": "Python [conda root]",
   "language": "python",
   "name": "conda-root-py"
  },
  "language_info": {
   "codemirror_mode": {
    "name": "ipython",
    "version": 2
   },
   "file_extension": ".py",
   "mimetype": "text/x-python",
   "name": "python",
   "nbconvert_exporter": "python",
   "pygments_lexer": "ipython2",
   "version": "2.7.12"
  }
 },
 "nbformat": 4,
 "nbformat_minor": 1
}
