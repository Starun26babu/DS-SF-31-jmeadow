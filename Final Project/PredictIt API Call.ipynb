{
 "cells": [
  {
   "cell_type": "markdown",
   "metadata": {
    "collapsed": true
   },
   "source": [
    "### Connects to API and pulls in data"
   ]
  },
  {
   "cell_type": "code",
   "execution_count": 208,
   "metadata": {
    "collapsed": false,
    "scrolled": false
   },
   "outputs": [],
   "source": [
    "### CONNECT TO API AND PULL IN DATA\n",
    "\n",
    "import numpy as np\n",
    "import pandas as pd\n",
    "import json\n",
    "from urllib2 import urlopen\n",
    "from pprint import pprint\n",
    "from IPython.display import display\n",
    "import os.path #for accessing the json file\n",
    "import sys\n",
    "from datetime import datetime\n",
    "reload(sys)\n",
    "sys.setdefaultencoding('utf-8') #this is needed to allow special characters in urls and market names\n",
    "\n",
    "# website = urlopen('https://predictit.org/api/marketdata/ticker/GORSUCH.SCOTUS.NEXTJUSTICE')\n",
    "website = urlopen('https://predictit.org/api/marketdata/all')\n",
    "predictit = website.read()\n",
    "\n",
    "\n",
    "print os.path.isfile('test.json')\n",
    "target = open('test.json','w')\n",
    "target.truncate()\n",
    "target.write(predictit)\n",
    "target.close()\n",
    "\n",
    "target = open('test.json','r')\n",
    "with open('test.json') as data_file:\n",
    "    predictit = json.load(data_file)\n",
    "    \n",
    "# pprint(predictit)\n",
    "\n",
    "# print \"predictit: \"+str(type(predictit))\n",
    "# print 'predictit[\"Markets\"]): '+str(type(predictit[\"Markets\"]))\n",
    "# print 'predictit[\"Markets\"][0]): '+str(type(predictit[\"Markets\"][0]))\n",
    "# print 'predictit[\"Markets\"][0][\"Contracts\"]: '+str(type(predictit[\"Markets\"][0][\"Contracts\"]))\n",
    "# print 'predictit[\"Markets\"][0][\"Contracts\"][0]: '+str(type(predictit[\"Markets\"][0][\"Contracts\"][0]))\n",
    "\n",
    "# contracts = 0\n",
    "# for x in xrange(0,len(predictit[\"Markets\"])):\n",
    "#     contracts = contracts + len(predictit[\"Markets\"][x][\"Contracts\"])\n",
    "\n",
    "# print 'Number of markets: '+str(len(predictit[\"Markets\"]))\n",
    "# print 'Number of contracts: '+str(contracts)"
   ]
  },
  {
   "cell_type": "markdown",
   "metadata": {},
   "source": [
    "### Process Data for  Database Upload\n",
    "\n",
    "#### Step 1: Divide into tables"
   ]
  },
  {
   "cell_type": "code",
   "execution_count": 167,
   "metadata": {
    "collapsed": false
   },
   "outputs": [],
   "source": [
    "### PROCESS API DATA INTO TABLES ###\n",
    "\n",
    "### Markets ###\n",
    "markets_id = list()\n",
    "markets_name = list()\n",
    "markets_shortname = list()\n",
    "markets_tickersymbol = list()\n",
    "markets_url = list()\n",
    "markets_timestamp = list()\n",
    "for x in xrange(0,len(predictit[\"Markets\"])):\n",
    "    markets_id.append(predictit[\"Markets\"][x][\"ID\"])\n",
    "    markets_name.append(predictit[\"Markets\"][x][\"Name\"])    \n",
    "    markets_shortname.append(predictit[\"Markets\"][x][\"ShortName\"])    \n",
    "    markets_tickersymbol.append(predictit[\"Markets\"][x][\"TickerSymbol\"])    \n",
    "    markets_url.append(predictit[\"Markets\"][x][\"URL\"])    \n",
    "    markets_timestamp.append(predictit[\"Markets\"][x][\"TimeStamp\"])    \n",
    "    \n",
    "markets = pd.DataFrame(data={\"id\":markets_id,\"name\":markets_name,\"shortname\":markets_shortname,\"tickersymbol\":markets_tickersymbol,\"url\":markets_url,\"timestamp\":markets_timestamp})\n",
    "markets = markets.replace(\"N/A\",np.nan)\n",
    "\n",
    "### Contracts ###\n",
    "contracts_id = list()\n",
    "contracts_market_id = list()\n",
    "contracts_longname = list()\n",
    "contracts_name = list()\n",
    "contracts_shortname = list()\n",
    "contracts_date_end = list()\n",
    "contracts_tickersymbol = list()\n",
    "contracts_url = list()\n",
    "contracts_timestamp = list()\n",
    "\n",
    "for x in xrange(0,len(predictit[\"Markets\"])):\n",
    "    for y in xrange(0,len(predictit[\"Markets\"][x][\"Contracts\"])):\n",
    "        contracts_id.append(predictit[\"Markets\"][x][\"Contracts\"][y][\"ID\"])\n",
    "        contracts_market_id.append(predictit[\"Markets\"][x][\"ID\"])\n",
    "        contracts_longname.append(predictit[\"Markets\"][x][\"Contracts\"][y][\"LongName\"])\n",
    "        contracts_name.append(predictit[\"Markets\"][x][\"Contracts\"][y][\"Name\"])\n",
    "        contracts_shortname.append(predictit[\"Markets\"][x][\"Contracts\"][y][\"ShortName\"])\n",
    "        contracts_date_end.append(predictit[\"Markets\"][x][\"Contracts\"][y][\"DateEnd\"])\n",
    "        contracts_tickersymbol.append(predictit[\"Markets\"][x][\"Contracts\"][y][\"TickerSymbol\"])\n",
    "        contracts_url.append(predictit[\"Markets\"][x][\"Contracts\"][y][\"URL\"])\n",
    "        contracts_timestamp.append(predictit[\"Markets\"][x][\"TimeStamp\"])\n",
    "\n",
    "contracts = pd.DataFrame({\"id\":contracts_id,\"market_id\":contracts_market_id,\"name\":contracts_name,\"longname\":contracts_longname,\"name\":contracts_name,\"shortname\":contracts_shortname,\"date_end\":contracts_date_end,\"tickersymbol\":contracts_tickersymbol,\"url\":contracts_url,\"timestamp\":contracts_timestamp})\n",
    "contracts = contracts.replace(\"N/A\",np.nan)\n",
    "\n",
    "### Prices ###\n",
    "prices_contract_id = list()\n",
    "prices_buy_no = list()\n",
    "prices_buy_yes = list()\n",
    "prices_sell_no = list()\n",
    "prices_sell_yes = list()\n",
    "prices_timestamp = list()\n",
    "\n",
    "for x in xrange(0,len(predictit[\"Markets\"])):\n",
    "    for y in xrange(0,len(predictit[\"Markets\"][x][\"Contracts\"])):\n",
    "        prices_contract_id.append(predictit[\"Markets\"][x][\"Contracts\"][y][\"ID\"])\n",
    "        prices_buy_no.append(predictit[\"Markets\"][x][\"Contracts\"][y][\"BestBuyNoCost\"])\n",
    "        prices_buy_yes.append(predictit[\"Markets\"][x][\"Contracts\"][y][\"BestBuyYesCost\"])\n",
    "        prices_sell_no.append(predictit[\"Markets\"][x][\"Contracts\"][y][\"BestSellNoCost\"])\n",
    "        prices_sell_yes.append(predictit[\"Markets\"][x][\"Contracts\"][y][\"BestSellYesCost\"])\n",
    "        prices_timestamp.append(predictit[\"Markets\"][x][\"TimeStamp\"])\n",
    "\n",
    "prices = pd.DataFrame({\"contract_id\":prices_contract_id,\"buy_no\":prices_buy_no,\"buy_yes\":prices_buy_yes,\"sell_no\":prices_sell_no,\"sell_yes\":prices_sell_yes,\"timestamp\":contracts_timestamp})\n",
    "\n",
    "\n",
    "# print \"Markets Shape: \"+str(markets.shape)\n",
    "# print \"Contracts Shape: \"+str(contracts.shape)\n",
    "# print \"Prices Shape: \"+str(prices.shape)\n"
   ]
  },
  {
   "cell_type": "markdown",
   "metadata": {},
   "source": [
    "#### Step 2: Determine Required Market and Contract Updates"
   ]
  },
  {
   "cell_type": "code",
   "execution_count": 178,
   "metadata": {
    "collapsed": false,
    "scrolled": true
   },
   "outputs": [],
   "source": [
    "### IDENTIFY NEW/CLOSED MARKETS AND CONTRACTS ###\n",
    "\n",
    "import psycopg2\n",
    "\n",
    "try:\n",
    "    conn = psycopg2.connect(\"dbname='postgres' user='jeremy' host='localhost' password=''\")\n",
    "except:\n",
    "    print \"I am unable to connect to the database\"\n",
    "    \n",
    "cursor = conn.cursor()\n",
    "\n",
    "### Markets ###\n",
    "cursor.execute(\"\"\"select id from markets where active = true\"\"\")\n",
    "\n",
    "db_markets = cursor.fetchall()\n",
    "\n",
    "active_markets = list()\n",
    "for x in xrange(0,len(db_markets)):\n",
    "    active_markets.append(db_markets[x][0])\n",
    "\n",
    "new_markets = markets.loc[~markets['id'].isin(active_markets)]\n",
    "new_markets[\"active\"] = [\"TRUE\"]*len(new_markets)\n",
    "new_markets.rename(columns={'timestamp':'created_at'}, inplace=True)\n",
    "\n",
    "closed_markets = [x for x in active_markets if x not in list(markets[\"id\"])]\n",
    "\n",
    "\n",
    "### Contracts ###  \n",
    "cursor.execute(\"\"\"select id from contracts where active = true\"\"\")\n",
    "db_contracts = cursor.fetchall()\n",
    "\n",
    "active_contracts = list()\n",
    "for x in xrange(0,len(db_contracts)):\n",
    "    active_contracts.append(db_contracts[x][0])\n",
    "\n",
    "new_contracts = contracts.loc[~contracts['id'].isin(active_contracts)]\n",
    "new_contracts[\"active\"] = [\"TRUE\"]*len(new_contracts)\n",
    "new_contracts.rename(columns={'timestamp':'created_at'}, inplace=True)\n",
    "\n",
    "closed_contracts = [x for x in active_contracts if x not in list(contracts[\"id\"])]\n",
    "\n",
    "\n",
    "# print contracts.shape\n",
    "# print new_contracts.shape\n",
    "# print closed_contracts\n",
    "\n",
    "# print markets.shape\n",
    "# print new_markets.shape\n",
    "# print closed_markets\n"
   ]
  },
  {
   "cell_type": "markdown",
   "metadata": {},
   "source": [
    "### Postgres Work"
   ]
  },
  {
   "cell_type": "code",
   "execution_count": 180,
   "metadata": {
    "collapsed": false
   },
   "outputs": [],
   "source": [
    "### MARKETS UPLOAD ###\n",
    "for x in new_markets.index.values:\n",
    "    cursor.execute(\"\"\"\n",
    "        insert into markets (\n",
    "            id\n",
    "            ,name\n",
    "            ,shortname\n",
    "            ,active\n",
    "            ,created_at\n",
    "            ,tickersymbol\n",
    "            ,url\n",
    "        )\n",
    "        values (\n",
    "            '\"\"\"+str(new_markets[\"id\"][x])+\"\"\"'\n",
    "            ,'\"\"\"+str(new_markets[\"name\"][x]).replace(\"'\",\"''\")+\"\"\"'\n",
    "            ,'\"\"\"+str(new_markets[\"shortname\"][x]).replace(\"'\",\"''\")+\"\"\"'\n",
    "            ,'\"\"\"+str(new_markets[\"active\"][x])+\"\"\"'\n",
    "            ,'\"\"\"+str(new_markets[\"created_at\"][x])+\"\"\"'\n",
    "            ,'\"\"\"+str(new_markets[\"tickersymbol\"][x])+\"\"\"'\n",
    "            ,'\"\"\"+str(new_markets[\"url\"][x]).replace(\"'\",\"''\")+\"\"\"'\n",
    "        )\n",
    "        \"\"\")\n"
   ]
  },
  {
   "cell_type": "code",
   "execution_count": 181,
   "metadata": {
    "collapsed": false,
    "scrolled": true
   },
   "outputs": [],
   "source": [
    "### CONTRACTS UPLOAD ###\n",
    "for x in new_contracts.index.values:\n",
    "    if pd.isnull(new_contracts[\"date_end\"][x]):\n",
    "        skip = \"--\"\n",
    "    else: \n",
    "        skip = \"\"\n",
    "    \n",
    "    \n",
    "    cursor.execute(\"\"\"\n",
    "        insert into contracts (\n",
    "            id\n",
    "            ,market_id\n",
    "            ,longname\n",
    "            ,name\n",
    "            ,shortname\n",
    "            ,active\n",
    "            \"\"\"+str(skip)+\"\"\",date_end\n",
    "            ,created_at\n",
    "            ,tickersymbol\n",
    "            ,url\n",
    "        )\n",
    "        values (\n",
    "            '\"\"\"+str(new_contracts[\"id\"][x])+\"\"\"'\n",
    "            ,'\"\"\"+str(new_contracts[\"market_id\"][x])+\"\"\"'\n",
    "            ,'\"\"\"+str(new_contracts[\"longname\"][x]).replace(\"'\",\"''\")+\"\"\"'\n",
    "            ,'\"\"\"+str(new_contracts[\"name\"][x]).replace(\"'\",\"''\")+\"\"\"'\n",
    "            ,'\"\"\"+str(new_contracts[\"shortname\"][x]).replace(\"'\",\"''\")+\"\"\"'\n",
    "            ,'\"\"\"+str(new_contracts[\"active\"][x])+\"\"\"'\n",
    "            \"\"\"+str(skip)+\"\"\",'\"\"\"+str(new_contracts[\"date_end\"][x])+\"\"\"'\n",
    "            ,'\"\"\"+str(new_contracts[\"created_at\"][x])+\"\"\"'\n",
    "            ,'\"\"\"+str(new_contracts[\"tickersymbol\"][x])+\"\"\"'\n",
    "            ,'\"\"\"+str(new_contracts[\"url\"][x]).replace(\"'\",\"''\")+\"\"\"'\n",
    "        )\n",
    "        \"\"\")\n"
   ]
  },
  {
   "cell_type": "code",
   "execution_count": 182,
   "metadata": {
    "collapsed": true
   },
   "outputs": [],
   "source": [
    "### PRICES UPLOAD ###\n",
    "for x in prices.index.values:\n",
    "    \n",
    "    if pd.isnull(prices[\"buy_no\"][x]):\n",
    "        skip_bn = \"--\"\n",
    "    else: \n",
    "        skip_bn = \"\"\n",
    "        \n",
    "    if pd.isnull(prices[\"buy_yes\"][x]):\n",
    "        skip_by = \"--\"\n",
    "    else: \n",
    "        skip_by = \"\"\n",
    "\n",
    "    if pd.isnull(prices[\"sell_no\"][x]):\n",
    "        skip_sn = \"--\"\n",
    "    else: \n",
    "        skip_sn = \"\"\n",
    "        \n",
    "    if pd.isnull(prices[\"sell_yes\"][x]):\n",
    "        skip_sy = \"--\"\n",
    "    else: \n",
    "        skip_sy = \"\"\n",
    "        \n",
    "        \n",
    "    cursor.execute(\"\"\"\n",
    "        insert into prices (\n",
    "            contract_id\n",
    "            ,timestamp\n",
    "            \"\"\"+str(skip_bn)+\"\"\",buy_no\n",
    "            \"\"\"+str(skip_by)+\"\"\",buy_yes\n",
    "            \"\"\"+str(skip_sn)+\"\"\",sell_no\n",
    "            \"\"\"+str(skip_sy)+\"\"\",sell_yes\n",
    "        )\n",
    "        values (\n",
    "            '\"\"\"+str(prices[\"contract_id\"][x])+\"\"\"'\n",
    "            ,'\"\"\"+str(prices[\"timestamp\"][x])+\"\"\"'\n",
    "            \"\"\"+str(skip_bn)+\"\"\",'\"\"\"+str(prices[\"buy_no\"][x])+\"\"\"'\n",
    "            \"\"\"+str(skip_by)+\"\"\",'\"\"\"+str(prices[\"buy_yes\"][x])+\"\"\"'\n",
    "            \"\"\"+str(skip_sn)+\"\"\",'\"\"\"+str(prices[\"sell_no\"][x])+\"\"\"'\n",
    "            \"\"\"+str(skip_sy)+\"\"\",'\"\"\"+str(prices[\"sell_yes\"][x])+\"\"\"'\n",
    "        )\n",
    "        \"\"\")\n"
   ]
  },
  {
   "cell_type": "code",
   "execution_count": 183,
   "metadata": {
    "collapsed": false
   },
   "outputs": [],
   "source": [
    "### CLOSE CONTRACTS ###\n",
    "for x in closed_contracts:\n",
    "    cursor.execute(\"\"\"\n",
    "        update contracts\n",
    "        set active = false\n",
    "        ,closed_at = TIMESTAMP WITH TIME ZONE '\"\"\"+(contracts[\"timestamp\"][0])+\"\"\"'\n",
    "        where id = \"\"\"+str(x)+\"\"\"\n",
    "        ;\"\"\")"
   ]
  },
  {
   "cell_type": "code",
   "execution_count": 184,
   "metadata": {
    "collapsed": false
   },
   "outputs": [],
   "source": [
    "### CLOSE MARKETS ###\n",
    "for x in closed_markets:\n",
    "    cursor.execute(\"\"\"\n",
    "        update markets\n",
    "        set active = false\n",
    "        ,closed_at = TIMESTAMP WITH TIME ZONE '\"\"\"+(markets[\"timestamp\"][0])+\"\"\"'\n",
    "        where id = \"\"\"+str(x)+\"\"\"\n",
    "        ;\"\"\")"
   ]
  },
  {
   "cell_type": "code",
   "execution_count": 185,
   "metadata": {
    "collapsed": false
   },
   "outputs": [],
   "source": [
    "### COMMIT CHANGES TO DATABASE ###\n",
    "conn.commit()"
   ]
  },
  {
   "cell_type": "code",
   "execution_count": 219,
   "metadata": {
    "collapsed": false
   },
   "outputs": [
    {
     "data": {
      "text/plain": [
       "'2017-02-13 12:03:56.684062 update:'"
      ]
     },
     "metadata": {},
     "output_type": "display_data"
    },
    {
     "data": {
      "text/plain": [
       "'763 prices uploaded.'"
      ]
     },
     "metadata": {},
     "output_type": "display_data"
    },
    {
     "data": {
      "text/plain": [
       "'152 Markets opened: [2198, 2404, 2405, 2406, 2449, 2454, 2455, 2461, 2463, 2468, 2493, 2634, 2635, 2636, 2654, 2662, 2663, 2664, 2666, 2667, 2668, 2672, 2685, 2698, 2699, 2703, 2704, 2708, 2709, 2710, 2721, 2723, 2725, 2726, 2733, 2734, 2742, 2743, 2744, 2745, 2747, 2748, 2749, 2750, 2751, 2753, 2754, 2755, 2760, 2761, 2762, 2766, 2767, 2768, 2770, 2771, 2772, 2773, 2774, 2775, 2776, 2777, 2778, 2779, 2785, 2786, 2787, 2788, 2789, 2790, 2792, 2793, 2794, 2795, 2797, 2800, 2801, 2802, 2813, 2819, 2826, 2829, 2850, 2851, 2852, 2853, 2854, 2855, 2863, 2865, 2866, 2867, 2872, 2873, 2874, 2875, 2881, 2882, 2884, 2886, 2889, 2890, 2891, 2896, 2901, 2902, 2903, 2906, 2907, 2909, 2912, 2914, 2917, 2918, 2919, 2920, 2921, 2924, 2925, 2926, 2928, 2932, 2933, 2935, 2936, 2937, 2938, 2939, 2940, 2941, 2944, 2945, 2947, 2948, 2949, 2950, 2951, 2952, 2953, 2954, 2955, 2956, 2957, 2960, 2961, 2962, 2963, 2964, 2965, 2966, 2967, 2969]'"
      ]
     },
     "metadata": {},
     "output_type": "display_data"
    },
    {
     "data": {
      "text/plain": [
       "'0 Markets closed: []'"
      ]
     },
     "metadata": {},
     "output_type": "display_data"
    },
    {
     "data": {
      "text/plain": [
       "'763 Contracts opened: [4899, 2837, 2832, 2833, 2834, 2835, 2836, 2838, 2839, 2840, 2841, 2842, 2843, 2844, 4188, 4566, 4892, 4893, 4894, 4895, 4896, 4897, 4898, 4900, 4901, 3414, 3415, 3416, 3417, 3418, 3422, 5074, 3421, 3429, 3420, 3428, 5379, 3424, 3419, 3423, 3425, 3426, 3430, 3522, 3523, 4700, 3572, 3568, 3569, 5143, 3570, 3577, 3566, 3567, 3571, 3573, 3576, 3578, 3585, 3586, 3587, 3589, 3588, 4534, 3590, 3591, 3592, 3593, 4406, 4407, 4408, 4479, 4480, 4508, 4509, 4533, 4576, 4578, 4611, 4614, 4761, 3613, 3616, 3618, 4920, 3614, 3615, 3617, 3619, 3620, 3621, 3622, 3623, 3624, 3625, 3626, 3627, 4866, 4885, 3631, 3630, 3629, 3633, 3632, 3634, 3635, 3636, 3637, 3638, 3639, 3640, 3641, 3642, 3643, 3644, 3645, 3658, 3659, 3660, 3661, 3662, 3663, 3682, 4218, 4375, 4416, 4424, 4475, 4476, 4477, 4478, 4530, 4537, 4609, 4610, 4657, 4685, 5323, 4481, 3711, 3712, 3713, 3714, 3715, 3738, 4397, 4498, 4503, 4511, 4527, 5305, 4085, 4084, 4086, 4087, 5094, 4093, 4094, 4095, 4096, 4607, 4652, 4764, 4765, 4773, 4814, 4886, 4887, 4918, 4942, 4945, 4973, 4976, 4977, 5004, 5043, 5044, 5045, 5051, 5069, 5092, 5093, 5332, 4617, 4088, 4089, 4090, 4091, 4092, 4401, 4402, 4487, 4488, 4489, 4577, 4618, 4766, 4767, 4149, 4145, 4146, 4147, 4148, 4178, 4915, 4759, 4529, 4184, 4185, 4186, 4187, 4400, 4409, 4482, 4483, 4505, 4506, 4528, 4616, 4696, 4760, 4817, 4922, 4412, 5137, 4179, 4180, 4181, 4182, 4183, 4410, 4411, 4484, 4507, 4654, 4686, 4755, 4756, 4757, 4758, 4862, 4917, 4941, 4943, 4982, 4985, 5007, 5023, 5135, 5136, 4197, 4196, 4195, 4200, 4198, 4199, 4203, 4201, 4202, 4204, 4984, 4216, 4268, 4270, 4266, 4267, 4217, 4960, 4214, 4215, 4269, 4961, 4264, 4392, 4435, 4436, 4423, 4312, 4313, 4314, 4315, 4316, 4318, 4437, 4497, 4486, 4307, 4308, 4309, 4310, 4311, 4414, 4415, 4485, 4526, 4608, 4332, 4333, 4330, 4331, 4342, 4405, 4348, 4349, 4350, 4351, 4352, 4353, 4403, 4404, 4449, 4525, 4535, 4606, 4656, 4754, 4565, 5355, 4344, 4747, 4343, 4345, 4346, 4347, 4413, 4753, 4818, 4841, 4390, 4389, 4388, 4391, 4394, 4395, 4396, 4446, 4447, 4490, 4491, 4492, 4493, 4495, 4496, 4499, 4500, 4501, 4512, 4515, 5254, 4513, 4514, 4516, 4517, 4518, 4655, 4750, 4751, 4752, 4779, 4793, 4842, 4844, 4865, 4522, 4519, 4520, 4523, 4563, 4564, 5331, 4553, 4768, 5356, 4554, 4555, 4556, 4557, 4558, 4648, 4769, 4812, 4944, 5378, 4560, 4559, 4561, 4562, 4934, 4935, 4983, 4651, 4589, 4590, 4591, 4592, 4593, 4729, 4594, 4595, 4596, 4597, 4598, 4599, 4600, 4601, 4602, 4603, 4604, 4660, 4701, 4728, 4843, 4605, 4650, 4649, 4624, 4623, 4622, 4621, 4620, 4619, 4646, 5071, 4647, 4749, 4643, 4642, 4641, 4637, 4636, 4638, 4639, 4640, 4644, 4645, 4635, 4631, 4634, 4630, 4632, 4633, 4626, 4625, 4627, 4628, 4629, 4661, 4664, 4662, 4663, 4665, 4667, 4668, 4666, 4669, 4671, 4672, 4673, 4674, 4670, 4679, 4681, 4678, 4677, 4675, 4726, 4676, 4680, 4727, 4682, 4683, 4684, 4713, 5322, 4795, 4724, 4725, 4748, 4772, 4816, 4891, 4902, 4916, 4962, 5005, 5006, 5073, 4794, 5333, 4714, 4715, 4716, 4717, 4774, 4815, 5026, 4721, 5193, 4720, 4722, 4723, 5025, 5070, 4811, 5430, 4718, 4719, 5024, 4730, 4737, 4923, 4731, 4732, 4733, 4734, 4735, 4736, 4738, 5142, 5321, 4745, 4746, 4744, 4742, 4743, 4741, 5067, 5068, 4740, 4770, 4771, 4778, 4790, 4791, 4792, 4858, 4860, 4859, 4857, 4853, 4855, 4856, 4854, 4910, 4914, 4912, 4909, 4911, 4913, 4938, 5053, 4953, 4954, 4955, 4956, 4957, 4959, 5052, 5054, 5134, 5049, 5050, 5055, 5056, 5057, 5058, 5088, 5090, 5091, 5095, 5109, 5118, 5108, 5107, 5112, 5110, 5111, 5114, 5116, 5115, 5117, 5113, 5119, 5120, 5121, 5139, 5140, 5144, 5153, 5162, 5175, 5176, 5177, 5178, 5179, 5180, 5181, 5182, 5174, 5173, 5172, 5171, 5170, 5169, 5168, 5167, 5166, 5165, 5164, 5163, 5195, 5194, 5215, 5216, 5217, 5227, 5228, 5237, 5251, 5253, 5263, 5264, 5288, 5287, 5286, 5285, 5284, 5283, 5282, 5281, 5280, 5279, 5278, 5277, 5276, 5275, 5274, 5273, 5272, 5271, 5270, 5269, 5268, 5267, 5266, 5265, 5299, 5302, 5300, 5301, 5303, 5304, 5313, 5329, 5324, 5325, 5326, 5327, 5328, 5330, 5342, 5354, 5353, 5352, 5351, 5350, 5348, 5349, 5347, 5346, 5345, 5344, 5343, 5357, 5366, 5365, 5364, 5363, 5362, 5361, 5360, 5358, 5359, 5367, 5368, 5369, 5384, 5383, 5382, 5381, 5380, 5389, 5388, 5387, 5386, 5385, 5392, 5394, 5395, 5393, 5391, 5396, 5397, 5398, 5399, 5400, 5401, 5402, 5403, 5404, 5405, 5406, 5407, 5412, 5411, 5410, 5409, 5408, 5413, 5421, 5420, 5419, 5418, 5417, 5416, 5415, 5414, 5422, 5428, 5423, 5424, 5425, 5426, 5427, 5432, 5439, 5433, 5434, 5436, 5435, 5437, 5438, 5440, 5441, 5448, 5447, 5446, 5445, 5444, 5443, 5442, 5449, 5450, 5451, 5452, 5453, 5454, 5455, 5456, 5457, 5458, 5459, 5461]'"
      ]
     },
     "metadata": {},
     "output_type": "display_data"
    },
    {
     "data": {
      "text/plain": [
       "'0 Contracts closed: []'"
      ]
     },
     "metadata": {},
     "output_type": "display_data"
    }
   ],
   "source": [
    "### DISPLAY UPDATES MADE ###\n",
    "display(str(datetime.now())+' update:')\n",
    "display(str(len(prices))+' prices uploaded.')\n",
    "display(str(len(list(new_markets[\"id\"])))+' Markets opened: '+str(list(new_markets[\"id\"])))\n",
    "display(str(len(closed_markets))+' Markets closed: '+str(closed_markets))\n",
    "display(str(len(list(new_contracts[\"id\"])))+' Contracts opened: '+str(list(new_contracts[\"id\"])))\n",
    "display(str(len(closed_contracts))+' Contracts closed: '+str(closed_contracts))"
   ]
  }
 ],
 "metadata": {
  "anaconda-cloud": {},
  "kernelspec": {
   "display_name": "Python [conda root]",
   "language": "python",
   "name": "conda-root-py"
  },
  "language_info": {
   "codemirror_mode": {
    "name": "ipython",
    "version": 2
   },
   "file_extension": ".py",
   "mimetype": "text/x-python",
   "name": "python",
   "nbconvert_exporter": "python",
   "pygments_lexer": "ipython2",
   "version": "2.7.12"
  }
 },
 "nbformat": 4,
 "nbformat_minor": 1
}
