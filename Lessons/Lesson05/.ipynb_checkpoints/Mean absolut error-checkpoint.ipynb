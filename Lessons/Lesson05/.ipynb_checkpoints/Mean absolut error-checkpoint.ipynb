{
 "cells": [
  {
   "cell_type": "code",
   "execution_count": 4,
   "metadata": {
    "collapsed": false
   },
   "outputs": [
    {
     "name": "stdout",
     "output_type": "stream",
     "text": [
      "Decision Tree mean absolute error: 12.11\n",
      "Linear regression mean absolute error: 9.87\n"
     ]
    }
   ],
   "source": [
    "import numpy as np\n",
    "import pandas as pd\n",
    "\n",
    "# Load the dataset\n",
    "from sklearn.datasets import load_linnerud\n",
    "\n",
    "linnerud_data = load_linnerud()\n",
    "X = linnerud_data.data\n",
    "y = linnerud_data.target\n",
    "\n",
    "from sklearn.tree import DecisionTreeRegressor\n",
    "from sklearn.metrics import mean_absolute_error as mae\n",
    "from sklearn.linear_model import LinearRegression\n",
    "from sklearn.cross_validation import train_test_split\n",
    "X_train, X_test, y_train, y_test = train_test_split(X, y, test_size=0.3, random_state=42)\n",
    "\n",
    "\n",
    "# TODO: split the data into training and testing sets,\n",
    "# using the standard settings for train_test_split.\n",
    "# Then, train and test the classifiers with your newly split data instead of X and y.\n",
    "\n",
    "reg1 = DecisionTreeRegressor()\n",
    "reg1.fit(X_train, y_train)\n",
    "print \"Decision Tree mean absolute error: {:.2f}\".format(mae(y_test,reg1.predict(X_test)))\n",
    "\n",
    "reg2 = LinearRegression()\n",
    "reg2.fit(X_train, y_train)\n",
    "print \"Linear regression mean absolute error: {:.2f}\".format(mae(y_test,reg2.predict(X_test)))\n"
   ]
  },
  {
   "cell_type": "code",
   "execution_count": 9,
   "metadata": {
    "collapsed": false
   },
   "outputs": [
    {
     "name": "stdout",
     "output_type": "stream",
     "text": [
      "{'target': array([[ 191.,   36.,   50.],\n",
      "       [ 189.,   37.,   52.],\n",
      "       [ 193.,   38.,   58.],\n",
      "       [ 162.,   35.,   62.],\n",
      "       [ 189.,   35.,   46.],\n",
      "       [ 182.,   36.,   56.],\n",
      "       [ 211.,   38.,   56.],\n",
      "       [ 167.,   34.,   60.],\n",
      "       [ 176.,   31.,   74.],\n",
      "       [ 154.,   33.,   56.],\n",
      "       [ 169.,   34.,   50.],\n",
      "       [ 166.,   33.,   52.],\n",
      "       [ 154.,   34.,   64.],\n",
      "       [ 247.,   46.,   50.],\n",
      "       [ 193.,   36.,   46.],\n",
      "       [ 202.,   37.,   62.],\n",
      "       [ 176.,   37.,   54.],\n",
      "       [ 157.,   32.,   52.],\n",
      "       [ 156.,   33.,   54.],\n",
      "       [ 138.,   33.,   68.]]), 'data': array([[   5.,  162.,   60.],\n",
      "       [   2.,  110.,   60.],\n",
      "       [  12.,  101.,  101.],\n",
      "       [  12.,  105.,   37.],\n",
      "       [  13.,  155.,   58.],\n",
      "       [   4.,  101.,   42.],\n",
      "       [   8.,  101.,   38.],\n",
      "       [   6.,  125.,   40.],\n",
      "       [  15.,  200.,   40.],\n",
      "       [  17.,  251.,  250.],\n",
      "       [  17.,  120.,   38.],\n",
      "       [  13.,  210.,  115.],\n",
      "       [  14.,  215.,  105.],\n",
      "       [   1.,   50.,   50.],\n",
      "       [   6.,   70.,   31.],\n",
      "       [  12.,  210.,  120.],\n",
      "       [   4.,   60.,   25.],\n",
      "       [  11.,  230.,   80.],\n",
      "       [  15.,  225.,   73.],\n",
      "       [   2.,  110.,   43.]]), 'target_names': ['Weight', 'Waist', 'Pulse'], 'DESCR': 'Linnerrud dataset\\n=================\\n\\nNotes\\n-----\\nData Set Characteristics:\\n    :Number of Instances: 20\\n    :Number of Attributes: 3\\n    :Missing Attribute Values: None\\n\\nThe Linnerud dataset constains two small dataset:\\n\\n- *exercise*: A list containing the following components: exercise data with\\n  20 observations on 3 exercise variables: Weight, Waist and Pulse.\\n\\n- *physiological*: Data frame with 20 observations on 3 physiological variables:\\n   Chins, Situps and Jumps.\\n\\nReferences\\n----------\\n  * Tenenhaus, M. (1998). La regression PLS: theorie et pratique. Paris: Editions Technic.\\n', 'feature_names': ['Chins', 'Situps', 'Jumps']}\n"
     ]
    }
   ],
   "source": [
    "print linnerud_data"
   ]
  },
  {
   "cell_type": "code",
   "execution_count": null,
   "metadata": {
    "collapsed": true
   },
   "outputs": [],
   "source": []
  }
 ],
 "metadata": {
  "kernelspec": {
   "display_name": "Python [conda root]",
   "language": "python",
   "name": "conda-root-py"
  },
  "language_info": {
   "codemirror_mode": {
    "name": "ipython",
    "version": 2
   },
   "file_extension": ".py",
   "mimetype": "text/x-python",
   "name": "python",
   "nbconvert_exporter": "python",
   "pygments_lexer": "ipython2",
   "version": "2.7.12"
  }
 },
 "nbformat": 4,
 "nbformat_minor": 1
}
